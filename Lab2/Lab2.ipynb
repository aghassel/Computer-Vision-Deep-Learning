{
  "nbformat": 4,
  "nbformat_minor": 0,
  "metadata": {
    "colab": {
      "provenance": [],
      "gpuType": "V100"
    },
    "kernelspec": {
      "name": "python3",
      "display_name": "Python 3"
    },
    "language_info": {
      "name": "python"
    },
    "accelerator": "GPU"
  },
  "cells": [
    {
      "cell_type": "code",
      "source": [
        "from google.colab import drive\n",
        "drive.mount('/content/drive')"
      ],
      "metadata": {
        "id": "6gt2TEVjGpDP",
        "colab": {
          "base_uri": "https://localhost:8080/"
        },
        "outputId": "29ebdc6b-5bf0-4eb2-ee72-5d7beacc53ac"
      },
      "execution_count": 6,
      "outputs": [
        {
          "output_type": "stream",
          "name": "stdout",
          "text": [
            "Drive already mounted at /content/drive; to attempt to forcibly remount, call drive.mount(\"/content/drive\", force_remount=True).\n"
          ]
        }
      ]
    },
    {
      "cell_type": "code",
      "source": [
        "!ls /content/drive/MyDrive/Colab_Notebooks/ELEC475/Lab2/datasets"
      ],
      "metadata": {
        "id": "RGQH_K2WHtEC",
        "colab": {
          "base_uri": "https://localhost:8080/"
        },
        "outputId": "3786d6e2-066c-462a-9504-a8eef3f424f0"
      },
      "execution_count": 7,
      "outputs": [
        {
          "output_type": "stream",
          "name": "stdout",
          "text": [
            "COCO100  COCO10k  wikiart100  wikiart10k\n"
          ]
        }
      ]
    },
    {
      "cell_type": "code",
      "source": [
        "!python train.py -content_dir /content/drive/MyDrive/Colab_Notebooks/ELEC475/Lab2/datasets/COCO100/ -style_dir /content/drive/MyDrive/Colab_Notebooks/ELEC475/Lab2/datasets/wikiart100/ -gamma 1.0 -e 20 -b 20 -l encoder.pth -s decoder.pth -p decoder.png -cuda Y"
      ],
      "metadata": {
        "colab": {
          "base_uri": "https://localhost:8080/"
        },
        "id": "25zPY7Jnc2nM",
        "outputId": "26f211ca-dda1-40ef-b726-dac798f41d0c"
      },
      "execution_count": null,
      "outputs": [
        {
          "output_type": "stream",
          "name": "stdout",
          "text": [
            "Epoch 1/20\n",
            "Content Loss: 2.58, Style Loss: 112.21, Total Loss: 114.79\n",
            "Epoch 2/20\n",
            "Content Loss: 2.97, Style Loss: 77.94, Total Loss: 80.91\n",
            "Epoch 3/20\n",
            "Content Loss: 3.22, Style Loss: 60.91, Total Loss: 64.14\n",
            "Epoch 4/20\n",
            "Content Loss: 2.94, Style Loss: 43.21, Total Loss: 46.15\n",
            "Epoch 5/20\n",
            "Content Loss: 2.91, Style Loss: 32.66, Total Loss: 35.57\n",
            "Epoch 6/20\n",
            "Content Loss: 2.82, Style Loss: 27.00, Total Loss: 29.82\n",
            "Epoch 7/20\n",
            "Content Loss: 2.74, Style Loss: 24.32, Total Loss: 27.07\n",
            "Epoch 8/20\n",
            "Content Loss: 2.71, Style Loss: 23.26, Total Loss: 25.97\n",
            "Epoch 9/20\n",
            "Content Loss: 2.63, Style Loss: 20.73, Total Loss: 23.37\n",
            "Epoch 10/20\n",
            "Content Loss: 2.59, Style Loss: 20.26, Total Loss: 22.85\n",
            "Epoch 11/20\n",
            "Content Loss: 2.58, Style Loss: 19.51, Total Loss: 22.08\n",
            "Epoch 12/20\n",
            "Content Loss: 2.55, Style Loss: 18.95, Total Loss: 21.50\n",
            "Epoch 13/20\n",
            "Content Loss: 2.48, Style Loss: 18.47, Total Loss: 20.95\n",
            "Epoch 14/20\n",
            "Content Loss: 2.45, Style Loss: 17.39, Total Loss: 19.84\n",
            "Epoch 15/20\n",
            "Content Loss: 2.43, Style Loss: 17.96, Total Loss: 20.39\n",
            "Epoch 16/20\n",
            "Content Loss: 2.39, Style Loss: 16.18, Total Loss: 18.57\n",
            "Epoch 17/20\n",
            "Content Loss: 2.36, Style Loss: 15.37, Total Loss: 17.73\n",
            "Epoch 18/20\n",
            "Content Loss: 2.33, Style Loss: 14.94, Total Loss: 17.27\n",
            "Epoch 19/20\n",
            "Content Loss: 2.35, Style Loss: 14.95, Total Loss: 17.30\n",
            "Epoch 20/20\n",
            "Content Loss: 2.30, Style Loss: 14.23, Total Loss: 16.53\n",
            "Figure(1000x600)\n"
          ]
        }
      ]
    },
    {
      "cell_type": "code",
      "source": [
        "!python3 train.py -content_dir /content/drive/MyDrive/Colab_Notebooks/ELEC475/Lab2/datasets/COCO10k/ -style_dir /content/drive/MyDrive/Colab_Notebooks/ELEC475/Lab2/datasets/wikiart10k/ -gamma 1.0 -e 20 -b 32 -l encoder.pth -s decoder.pth -p decoder.png"
      ],
      "metadata": {
        "colab": {
          "base_uri": "https://localhost:8080/"
        },
        "id": "RCXiVfh1l1pu",
        "outputId": "f43d0356-de6e-40be-d7e8-d023a0939761"
      },
      "execution_count": 8,
      "outputs": [
        {
          "output_type": "stream",
          "name": "stdout",
          "text": [
            "Epoch 1/20\n",
            "Content Loss: 2.91, Style Loss: 59.05, Total Loss: 61.95\n",
            "Epoch 2/20\n",
            "Content Loss: 2.58, Style Loss: 20.91, Total Loss: 23.49\n",
            "Epoch 3/20\n",
            "Content Loss: 2.39, Style Loss: 15.81, Total Loss: 18.20\n",
            "Epoch 4/20\n",
            "Content Loss: 2.28, Style Loss: 13.34, Total Loss: 15.62\n",
            "Epoch 5/20\n",
            "Content Loss: 2.19, Style Loss: 11.47, Total Loss: 13.66\n",
            "Epoch 6/20\n",
            "Content Loss: 2.13, Style Loss: 10.77, Total Loss: 12.90\n",
            "Epoch 7/20\n",
            "Content Loss: 2.08, Style Loss: 10.21, Total Loss: 12.29\n",
            "Epoch 8/20\n",
            "Content Loss: 2.02, Style Loss: 9.49, Total Loss: 11.51\n",
            "Epoch 9/20\n",
            "Content Loss: 1.99, Style Loss: 9.22, Total Loss: 11.21\n",
            "Epoch 10/20\n",
            "Content Loss: 1.96, Style Loss: 8.53, Total Loss: 10.49\n",
            "Epoch 11/20\n",
            "Content Loss: 1.92, Style Loss: 8.51, Total Loss: 10.43\n",
            "Epoch 12/20\n",
            "Content Loss: 1.90, Style Loss: 8.17, Total Loss: 10.06\n",
            "Epoch 13/20\n",
            "Content Loss: 1.87, Style Loss: 7.84, Total Loss: 9.70\n",
            "Epoch 14/20\n",
            "Content Loss: 1.84, Style Loss: 7.59, Total Loss: 9.43\n",
            "Epoch 15/20\n",
            "Content Loss: 1.82, Style Loss: 7.38, Total Loss: 9.20\n",
            "Epoch 16/20\n",
            "Content Loss: 1.82, Style Loss: 7.63, Total Loss: 9.44\n",
            "Epoch 17/20\n",
            "Content Loss: 1.80, Style Loss: 7.49, Total Loss: 9.29\n",
            "Epoch 18/20\n",
            "Content Loss: 1.78, Style Loss: 7.42, Total Loss: 9.20\n",
            "Epoch 19/20\n",
            "Content Loss: 1.76, Style Loss: 7.10, Total Loss: 8.86\n",
            "Epoch 20/20\n",
            "Content Loss: 1.74, Style Loss: 6.76, Total Loss: 8.50\n",
            "Figure(1000x600)\n"
          ]
        }
      ]
    }
  ]
}